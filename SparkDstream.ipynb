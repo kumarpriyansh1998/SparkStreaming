{
 "cells": [
  {
   "cell_type": "code",
   "execution_count": 1,
   "id": "c6a51651",
   "metadata": {},
   "outputs": [],
   "source": [
    "import findspark\n",
    "findspark.init(\"/opt/spark/spark-3.4.0-bin-hadoop3\")"
   ]
  },
  {
   "cell_type": "code",
   "execution_count": 2,
   "id": "ceead651",
   "metadata": {},
   "outputs": [],
   "source": [
    "from pyspark import SparkContext,SparkConf\n",
    "from pyspark.streaming import StreamingContext\n",
    "import sys,re\n",
    "import random"
   ]
  },
  {
   "cell_type": "code",
   "execution_count": 10,
   "id": "566d53cf",
   "metadata": {},
   "outputs": [],
   "source": [
    "random.seed(15)\n",
    "conf = (SparkConf().setMaster(\"local[2]\").setAppName(\"TextUpdater\").set(\"spark.executor.memory\",\"2g\"))\n",
    "sc = SparkContext(conf=conf)\n",
    "ssc = StreamingContext(sc,5)\n",
    "ssc.checkpoint(\"file:///opt/spark/check\")\n",
    "sc.setLogLevel(\"WARN\")\n",
    "\n"
   ]
  },
  {
   "cell_type": "code",
   "execution_count": 8,
   "id": "6d010229",
   "metadata": {},
   "outputs": [],
   "source": [
    "directory = \"file:///opt/spark/data\""
   ]
  },
  {
   "cell_type": "code",
   "execution_count": 9,
   "id": "17d7d4a0",
   "metadata": {},
   "outputs": [],
   "source": [
    "log_data = ssc.textFileStream(directory)\n",
    "\n",
    "def mapIPValue(rdd):\n",
    "    rdd1 = rdd.map(lambda a:a.split(\"-\")[0]).map(lambda a:(a,1)).reduceByKey(lambda a,b:a+b).filter(lambda x:x[1]>30)\n",
    "    return rdd1\n",
    "\n",
    "transformed_access_log = log_data.transform(mapIPValue)\n",
    "transformed_access_log.pprint(num=30)"
   ]
  },
  {
   "cell_type": "code",
   "execution_count": 6,
   "id": "38deb520",
   "metadata": {},
   "outputs": [],
   "source": [
    "ssc.start()"
   ]
  },
  {
   "cell_type": "code",
   "execution_count": 7,
   "id": "f2b0c533",
   "metadata": {},
   "outputs": [],
   "source": [
    "ssc.stop(stopSparkContext=True,stopGraceFully=True)"
   ]
  },
  {
   "cell_type": "code",
   "execution_count": null,
   "id": "a9f25dd1",
   "metadata": {},
   "outputs": [],
   "source": []
  }
 ],
 "metadata": {
  "kernelspec": {
   "display_name": "Python 3 (ipykernel)",
   "language": "python",
   "name": "python3"
  },
  "language_info": {
   "codemirror_mode": {
    "name": "ipython",
    "version": 3
   },
   "file_extension": ".py",
   "mimetype": "text/x-python",
   "name": "python",
   "nbconvert_exporter": "python",
   "pygments_lexer": "ipython3",
   "version": "3.10.6"
  }
 },
 "nbformat": 4,
 "nbformat_minor": 5
}
